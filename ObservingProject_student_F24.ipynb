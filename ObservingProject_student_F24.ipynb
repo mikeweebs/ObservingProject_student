{
 "cells": [
  {
   "cell_type": "markdown",
   "metadata": {},
   "source": [
    "<h2>OBSERVATIONAL ASTROPHYSICS – FALL 2024 OBSERVING EXERCISE</h2>\n",
    "<h4>All elements are due by October 7th at noon.</h4>"
   ]
  },
  {
   "cell_type": "markdown",
   "metadata": {},
   "source": [
    "<i>Note: Enter in all code to the problems in the provided notebook cells. Questions to answer will be <b>bolded</b>.</i>  "
   ]
  },
  {
   "cell_type": "markdown",
   "metadata": {},
   "source": [
    "As a key element in this class, we are planning to observe remotely with the 0.7m Breyo Observatory at Siena College in the vicinity of Albany, NY. The telescope is equipped with a CCD camera and a variety of broad band filters. The broad-band filters include the standard Sloan Digital Sky Survey *ugriz* set. The plan is to use the scope potentially (weather permitting) to obtain photometry of an open cluster.\n",
    "\n",
    "All your answers should be entered using the python notebook templates provided as part of this assignment. Each student will need to hand in their own notebook by uploading it to GitHub.   Just make a repository called `Observing Exercise` and send me the link.  You don't need to make me a collaborator.\n",
    "\n",
    "In the code places where you will need to put something or write your own code are specified by `#***************`"
   ]
  },
  {
   "cell_type": "markdown",
   "metadata": {},
   "source": [
    "To plan your observing, you need to derive a few basics about the combined scope/ instrumentation. The <a href = \"https://planewave.com/product/cdk700-0-7m-cdk-telescope-system/\">0.7m Breyo telescope</a> at Siena has an optics combination that results in an effective f/6.5 ratio. It is equipped with an electronically cooled <a href = \"https://www.flicamera.com/kepler/KL4040FI.php\">  Kepler KL4040 camera</a> and a filter wheel assembly from Finger Lakes Instrumentation.  \n",
    "\n",
    "The KL4040 camera has the GS4040 sCMOS detector described at the bottom of the CCD page.  Note that \"4k\" in astronomy language means 4096.\n",
    "\n",
    "<b>1)    Given the CCD type and the telescope optics: (5 points)\n",
    "    <li>a) What will be the size in arcseconds of the typical CCD pixel on the KL4040 chip.\n",
    "    <li>b) What is the field of view (FOV) of the 0.7m CMOS camera in arc minutes? By FOV I mean the length of one side of the detector. </li>\n",
    "</b>\n",
    "    \n",
    "\n",
    "   "
   ]
  },
  {
   "cell_type": "code",
   "execution_count": 1,
   "metadata": {},
   "outputs": [
    {
     "name": "stdout",
     "output_type": "stream",
     "text": [
      "The size of one pixel is 0.41 arcseconds\n",
      "The field of view of the detector is 27.85 arcmin\n"
     ]
    }
   ],
   "source": [
    "#Answer 1) Here\n",
    "#You will need to use simple mathematical expressions and what you learned in class to find the asnwers to these.  \n",
    "#In order to get credit for this part you will need to write an expression that properly executes and results in the answer\n",
    "#You will need an expression for both parts 1 and 2 above\n",
    "\n",
    "#******************\n",
    "#part a\n",
    "\n",
    "# Using equations from lecture slides:\n",
    "# fratio = flength / Diameter => flength = fratio * Diameter\n",
    "fratio = 6.5\n",
    "flength = fratio * 0.7             # m\n",
    "\n",
    "# plate scale in arcsec: s = 206265 / flength\n",
    "angleratio = 206265 / flength      # arcsec/m\n",
    "\n",
    "# Scale for one pixel with length 9 microns\n",
    "pixscale = angleratio * 9e-6       # arcsec\n",
    "\n",
    "print(f'The size of one pixel is {pixscale:.2f} arcseconds')\n",
    "\n",
    "#part b\n",
    "\n",
    "# length of one side is the number of pixels on a side times the length of one pixel in arcsec\n",
    "fovsec = pixscale * 4096           # arcsec\n",
    "\n",
    "# 60 arcsec in one arcmin\n",
    "fovmin = fovsec / 60               # arcmin\n",
    "\n",
    "print(f'The field of view of the detector is {fovmin:2.2f} arcmin')"
   ]
  },
  {
   "cell_type": "markdown",
   "metadata": {},
   "source": [
    "We are using the telescope from Oct. 5-19 depending on the weather. We will need to begin the telescope setup procedure about 1 hour before Sunset so that we are ready to begin taking frames once it becomes dark enough to observe and we can take some calibration frames while the sky is still bright enough. (Note: since we are observing from near Albany, NY, all the questions below need to be answered as if you were in Albany. We can then subtract 1 hour from the times to account for the local observing schedule.) \n",
    "\n",
    "<b><u>2)    When does sunset occur on Oct. 7? (5 points)</u></b>  <i> The end of the code prints your answer in UTC. You need to also print it in Albany and Lawrence time.</i>"
   ]
  },
  {
   "cell_type": "code",
   "execution_count": 22,
   "metadata": {},
   "outputs": [
    {
     "name": "stdout",
     "output_type": "stream",
     "text": [
      "Sunset: 2024-10-09 22:17:00.487\n",
      "\n",
      "Breyo time of sunset: 2024-10-09 17:17:00.487\n",
      "Lawrence time of sunset: 2024-10-09 16:17:00.487\n"
     ]
    }
   ],
   "source": [
    "#There is a function in the python package astroplan to find the sunset time for a given location and date:\n",
    "#    https://astroplan.readthedocs.io/en/latest/api/astroplan.Observer.html#astroplan.Observer.sun_set_time\n",
    "#This function is a part of the observer class, and takes an input Time object from astropy corresponding to \n",
    "# the date. See documentation for astropy's Time object here for reference if needed:\n",
    "#    https://docs.astropy.org/en/stable/api/astropy.time.Time.html\n",
    "#Here's an example of how this function works:\n",
    "#\n",
    "#    Time_date = Time('2001-05-27')\n",
    "#    observer_object = Observer(longtiude = -155.0903*u.deg, latitude = 19.7026*u.deg, elevation = 100.0*u.m, name = \"Subaru\",timezone = \"US/Hawaii\")\n",
    "#    sunset_time = observer_object.sun_set_time(Time_date, which = \"next\")\n",
    "#\n",
    "#Note here that Time_date is the date of observation, and which=\"next\" instructs the function to provide the next sunset time\n",
    "#For details on the observer object, to be used throughout this assignment, see here:\n",
    "#    https://astroplan.readthedocs.io/en/latest/api/astroplan.Observer.html\n",
    "#In general, the observer object takes in a longtiude, latitude, elevation (we assign this as 0), a name of your choice, and a timezone.\n",
    "#You can view a list of available timezones on this stackoverflow thread:\n",
    "#    https://stackoverflow.com/questions/13866926/is-there-a-list-of-pytz-timezones\n",
    "\n",
    "\n",
    "#We import the necessary packages for this section\n",
    "from astroplan import Observer\n",
    "from astropy.time import Time\n",
    "import astropy.units as u\n",
    "#import warnings\n",
    "#warnings.filterwarnings(\"ignore\")\n",
    "\n",
    "#****************\n",
    "#Here you will need to define the coordinates of the Breyo observatory. Note that W and S have negative values (whereas E and N are positive).\n",
    "#The latitude and longitude need to be put in decimal form, e.g. long = 20.0003, lat = 33.33333 (those are not the right coordinates)\n",
    "_LONGITUDE_ =  -73.75191923448942 #*******************\n",
    "_LATITUDE_ =   42.719556065625824 #*******************\n",
    "\n",
    "#This is an astropy Time object, with a time value that corresponds to the date of observation. Date format: Time('YYYY-MM-DD')\n",
    "_TIME_ = Time('2024-10-09') #*******************\n",
    "\n",
    "\n",
    "#You now need to make the observer object for the Breyo observatory. See the example above for help\n",
    "Breyo_observer = Observer(longitude = _LONGITUDE_*u.deg, latitude = _LATITUDE_*u.deg, elevation = 43.0*u.m, name = \"Breyo\",timezone = \"US/Eastern\") \n",
    "\n",
    "#This computes the sunset at the time specified by the TIME object, at the location defined by Breyo_observer\n",
    "sunset_time = Breyo_observer.sun_set_time(_TIME_, which = \"next\") \n",
    "\n",
    "#The following provides a useful way to print out astropy Time objects in a convenient way. \n",
    "#The time returned here is in UTC time\n",
    "print(\"Sunset: {0.iso}\".format(sunset_time)) \n",
    "\n",
    "#*****************\n",
    "#put calculation here to find sunset time at Breyo and in Lawrence.  Also include code to print answers.\n",
    "\n",
    "# Eastern time is UTC-05, so we subtract 5 hours from the calculated UTC time. Similarly, we subtract 6 hours from the UTC time since Central time is UTC-06\n",
    "breyo_time_sunset = sunset_time - 5*u.hr\n",
    "lawrence_time_sunset = sunset_time - 6*u.hr\n",
    "print()\n",
    "print('Breyo time of sunset: {0.iso}'.format(breyo_time_sunset))\n",
    "print('Lawrence time of sunset: {0.iso}'.format(lawrence_time_sunset))"
   ]
  },
  {
   "cell_type": "markdown",
   "metadata": {},
   "source": [
    "Note – technically, sunset refers to the moment when the entire disk of the sun sinks below the horizon. However, the sky is still quite bright because of scattered/refracted light from the seeing sun. The next key moment is the end of twilight, defined as the moment when the sun’s center is a certain number of degrees below the horizon: civil twilight = 6°, astronomical twilight = 18°. At astronomical twilight, it should be totally dark (Moon excluded).\n",
    "\n",
    "<b><u>3)    When does <font color=\"red\">astronomical twilight</font> occur on Oct. 7? (5 points)</u></b>"
   ]
  },
  {
   "cell_type": "code",
   "execution_count": 23,
   "metadata": {},
   "outputs": [
    {
     "name": "stdout",
     "output_type": "stream",
     "text": [
      "Astronomical Twilight UTC: 2024-10-09 23:55:15.893\n"
     ]
    }
   ],
   "source": [
    "#There is an astroplan function that can be used to find astronomical twilight for a given time and position(observer):\n",
    "#    https://astroplan.readthedocs.io/en/latest/api/astroplan.Observer.html#astroplan.Observer.twilight_evening_astronomical\n",
    "#This function is a part of the observer class in astroplan, and its inputs are a time object corresponding to\n",
    "#the date of observation, and an argument which, with possible values previous, nearest, or next, which choose\n",
    "#the corresponding astronomical twilight to find\n",
    "#Example:\n",
    "#    observer_object = Observer(location=location, name=\"Subaru\", timezone=\"US/Hawaii\")\n",
    "#    astro_twilight = observer_object.twilight_evening_astronomical(Time_date, which = \"next\")\n",
    "\n",
    "###\n",
    "#*******************\n",
    "#Answer 3) Here. YOUR CODE: \n",
    "\n",
    "# Use the example call from above with the Time and Observer objects from the previous block\n",
    "astro_twilight = Breyo_observer.twilight_evening_astronomical(_TIME_,which = 'next')\n",
    "\n",
    "#The following provides a useful way to print out astropy Time objects in a convenient way. \n",
    "print(\"Astronomical Twilight UTC: {0.iso}\".format(astro_twilight)) "
   ]
  },
  {
   "cell_type": "markdown",
   "metadata": {},
   "source": [
    "Convert the UTC output to the local time both at the Breyo Observatory and in Lawrence and put the answer and the calculation in the next cell. The result of the cell should print out the twilight time at both locations."
   ]
  },
  {
   "cell_type": "code",
   "execution_count": 25,
   "metadata": {},
   "outputs": [
    {
     "name": "stdout",
     "output_type": "stream",
     "text": [
      "Lawrence time of twilight: 2024-10-09 17:55:15.893\n",
      "Breyo time of twilight: 2024-10-09 18:55:15.893\n"
     ]
    }
   ],
   "source": [
    "#(Continued) Part 3 answer goes here\n",
    "#*******************\n",
    "\n",
    "# We use the same calculations as in the previous block of code\n",
    "\n",
    "#Lawrence time\n",
    "lawrence_time_twilight = astro_twilight - 6*u.hr\n",
    "print('Lawrence time of twilight: {0.iso}'.format(lawrence_time_twilight))\n",
    "#Breyo time\n",
    "breyo_time_twilight = astro_twilight - 5*u.hr\n",
    "print('Breyo time of twilight: {0.iso}'.format(breyo_time_twilight))"
   ]
  },
  {
   "cell_type": "markdown",
   "metadata": {},
   "source": [
    "We will be observing for the first half of the night. Given your answer to (C), we will divide the evening into two time slots, each 1.5 HRS long. Let AT = Astronomical Twilight, then the 2 slots are:\n",
    "<ol>\n",
    "    <li> <b>time slot 1</b> = AT + 0.0 HR to AT + 1.5 HRS</li>\n",
    "    <li> <b>time slot 2</b> = AT + 1.5 HRS to AT+ 3.0 HRS</li>\n",
    "</ol>\n",
    "A link to the names of everyone and their time slots were posted on Blackboard under Observing Schedule and also <a href=\"https://docs.google.com/spreadsheets/d/1GPnIj0NZr8MZxJ8iR5KuD8TUVqdz0gaZHx1QOlnwjl4/edit?usp=sharing\">here</a> . You should work within your group to prepare the observing materials discussed below, but everyone will need to hand in their own notebook.\n",
    "\n",
    "For your group/time slot (assume we observe on Oct. 7th as the times won't very significantly over our observing window):\n",
    "\n",
    "<b><u>4) What is the optimum range of RA for objects that you would ideally observe during your 1.5-hour session? (5 points)</u></b> Note: <i>Think about whether objects of a given RA are rising or settng at the beginning and end of your observation session.</i>"
   ]
  },
  {
   "cell_type": "markdown",
   "metadata": {},
   "source": [
    "Go to the web page https://aa.usno.navy.mil/data/siderealtime to find the sidereal time at different local times.  \n",
    "\n",
    "Enter the information in the empty markdown box below and make sure to give a rationale as to why this range of RA is appropriate."
   ]
  },
  {
   "cell_type": "markdown",
   "metadata": {},
   "source": [
    "*Answer for 4 goes here:* We want the range of right acension to cover"
   ]
  },
  {
   "cell_type": "markdown",
   "metadata": {},
   "source": [
    "<b>5) If you want to remain within 30° of the zenith, what is the optimum range in declination? You need to answer this in two parts: (5 points)</b> \n",
    "\n",
    "a. <b>Given the location of the observatory, objects at their transit need to have what range of declination to be within 30° of the zenith.</b><i> This requires a straightforward calculation</i>\n",
    "        \n"
   ]
  },
  {
   "cell_type": "code",
   "execution_count": 27,
   "metadata": {},
   "outputs": [
    {
     "name": "stdout",
     "output_type": "stream",
     "text": [
      "The range of the declination is 12.719556065625824 to 72.71955606562582 degrees\n"
     ]
    }
   ],
   "source": [
    "#Answer 5a) Here\n",
    "#*******************\n",
    "#Part 1:\n",
    "#   Figure out how to use the observatory's location to find the position of the zenith.\n",
    "#\n",
    "# The latitude of the observatory is the same as its declination. So we take the latitude of the observatory +- 30 deg.\n",
    "Breyo_dec = 42.719556065625824\n",
    "dec_lower = Breyo_dec - 30\n",
    "dec_upper = Breyo_dec + 30\n",
    "\n",
    "print(f'The range of the declination is {dec_lower} to {dec_upper} degrees')"
   ]
  },
  {
   "cell_type": "markdown",
   "metadata": {},
   "source": [
    "b. <b>Using airmass plots (see below), determine what range of declinations would keep objects within 30° of the zenith over the course of your 1.5 hour observation block. Your answer will need to include airmass plots to demonstrate this. These plots can contain multiple curves, e.g. for different RA and DEC combinations, as long as the curves are labeled. All plots should come with a caption.</b>\n"
   ]
  },
  {
   "cell_type": "code",
   "execution_count": 7,
   "metadata": {},
   "outputs": [
    {
     "ename": "SyntaxError",
     "evalue": "invalid syntax (598867936.py, line 26)",
     "output_type": "error",
     "traceback": [
      "\u001b[0;36m  Cell \u001b[0;32mIn[7], line 26\u001b[0;36m\u001b[0m\n\u001b[0;31m    target_coord = SkyCoord(ra= *u.deg, dec= *u.deg)\u001b[0m\n\u001b[0m                                ^\u001b[0m\n\u001b[0;31mSyntaxError\u001b[0m\u001b[0;31m:\u001b[0m invalid syntax\n"
     ]
    }
   ],
   "source": [
    "#Here, we will provide you with the code needed to make airmass plots. You will use this to guide your answer to 5b\n",
    "###We important all the needed packages\n",
    "from astropy.coordinates import SkyCoord\n",
    "from astroplan import FixedTarget\n",
    "from astroplan.plots import plot_airmass, plot_altitude\n",
    "import matplotlib.pyplot as plt\n",
    "import numpy as np\n",
    "%config InlineBackend.figure_format = 'svg' #This makes the plots appear better inline in the notebook\n",
    "###\n",
    "\n",
    "fig, ax = plt.subplots() #These are the matplotlib Figure and and Axis objects we will plot on\n",
    "\n",
    "#*******************\n",
    "#you will need to enter an observation time in UT time format 'YYYY-MM-DD HH:MM:SS'.  \n",
    "#For this problem, you will need to change this time such that the x-axis of the plot\n",
    "#starts just before sunset.  Note the time zone of the x-axis in the plot to determine what \n",
    "#the right time units are to put in the line below.\n",
    "observation_time = Time('') #*******************\n",
    "\n",
    "#*******************\n",
    "#Now, you must define the coordinates for a target in the sky, for which the airmass plot will be made.\n",
    "#You will have to think about how to define these coordinates to find your answer for question E.2\n",
    "#With these coordinates, we make a target object using the FixedTarget function from astroplan.\n",
    "#Using the RA range from Part D, you should play with the DEC parameter until you find which DEC\n",
    "#values satisfy the altitude constraint.  The `*u.deg` apply degree units to the number.\n",
    "target_coord = SkyCoord(ra= *u.deg, dec= *u.deg)\n",
    "target_source = FixedTarget(coord=target_coord, name=\"Target\")\n",
    "\n",
    "#We now actually construct the airmass plot. The plot_altitude function makes the airmass plot, with the elevation on the y-axis\n",
    "plot_altitude(target_source,Breyo_observer, observation_time)\n",
    "\n",
    "#We will now plot a line and shaded region at and above an elevation of 60 degrees\n",
    "xmin, xmax = ax.get_xlim()\n",
    "x_line = np.linspace(xmin,xmax,100)\n",
    "y = [60]*100\n",
    "ax.plot(x_line, y, ls = '--')\n",
    "ax.fill_between(x_line, 60, 90, alpha = 0.1, color= 'orange' )\n",
    "\n",
    "plt.show()\n"
   ]
  },
  {
   "cell_type": "code",
   "execution_count": 5,
   "metadata": {},
   "outputs": [],
   "source": [
    "#*******************\n",
    "#Remainder of Answer 5b) Here\n",
    "\n",
    "#Part b: \n",
    "#   You will need to make a series of airmass plots using the code above to figure out which declinations satisfy the requirement here.\n",
    "#   You can copy the code from above to make the airmass plots! \n",
    "#\n",
    "\n",
    "\n"
   ]
  },
  {
   "cell_type": "code",
   "execution_count": null,
   "metadata": {},
   "outputs": [],
   "source": [
    "#***Run this block but DO NOT CHANGE***\n",
    "\n",
    "#Nothing to do here. Just some things defined for use later. \n",
    "from astroplan.plots import plot_finder_image\n",
    "from astropy.coordinates import SkyCoord\n",
    "from astroquery.skyview import SkyView\n",
    "import astropy.units as u\n",
    "import numpy as np\n",
    "import matplotlib\n",
    "import matplotlib.pyplot as plt\n",
    "%config InlineBackend.figure_format = 'svg' #This is here to make the plots appear high-resolution\n",
    "\n",
    "def get_RA_deg(RA_HMS):\n",
    "    #Convert RA from HMS to decimal degrees\n",
    "    H, M, S = [float(i) for i in RA_HMS.split()]\n",
    "    rs = 1\n",
    "    if str(H)[0] == '-': \n",
    "      rs, H = -1, abs(H)\n",
    "    deg = (H*15) + (M/4) + (S/240)\n",
    "    RA = '{0}'.format(deg*rs)\n",
    "    return float(RA)\n",
    "    \n",
    "def get_DEC_deg(DEC_DMS):\n",
    "    #Convert DEC from DMS to decimal degrees\n",
    "    ds = 1\n",
    "    D, M, S = [float(i) for i in DEC_DMS.split()]\n",
    "    if str(D)[0] == '-':\n",
    "      ds, D = -1, abs(D)\n",
    "    deg = D + (M/60) + (S/3600)\n",
    "    DEC = '{0}'.format(deg*ds)\n",
    "    return float(DEC)"
   ]
  },
  {
   "cell_type": "markdown",
   "metadata": {},
   "source": [
    "**6. Spreadsheet contents (10 points)**\n",
    "\n",
    "<p>Given your window of opportunity, first identify all open clusters that meet your time criteria from Part 1 (there will be lots of options since we are merely selecting an area of the sky as out first cut).\n",
    "    \n",
    "You will be using the “WEBDA” database at https://webda.physics.muni.cz/ .  This is an online database of stellar clusters that is a compiled version of clusters and lots of the data that is available for them.  \n",
    "\n",
    "<b>a) Read the \"Description\" page at https://webda.physics.muni.cz/description.html </b>\n",
    "\n",
    "You can access data in the following way.  From the main page go to the following link: Navigation→Available Data and Parameters.   This brings you a query tool that you can use to request clusters in a range of coordinates, with a minimum number of stars, and with a certain type of available data.  The Available Data and Parameters link is in the top right of the Navigation page under “Interrogation.”\n",
    "\n",
    "To start with query the clusters using the following criteria:\n",
    "<ol>\n",
    "    <li>The range of RA and DEC that you determined in PART 1 for your observing block</li>\n",
    "<li>A minimum number of stars that you will need to get a proper color-magnitude diagram.  Start with 100 and based on your work below, change this value to a higher or lower value depending on what you think you need to get a good CMD.</li>\n",
    "<li>For the dropdown menu by “datatype” choose “UBV CCD observations”.  That will only choose clusters that have existing observations that we can use to calibrate our data.</li>\n",
    "</ol>\n",
    "This query will result in many clusters.  You will need to pick your targets using the following criteria.  This will involve clicking through the clusters individually to find a good one.  My suggestion is to build up a sample of clusters using the main query and then keeping a table, perhaps on a google sheet or excel sheet.  Then you can keep track of the answers to the different questions below so that you can pare down your list. </p>  \n",
    "\n",
    "<b><i>You should upload your final table or spreadsheet to GitHub as part of this assigment.  The version of the table/spreadsheet that you upload to GitHub doesn't need to contain every cluster you looked at.  It just needs to give the ~6 objects that you have at the end of #3 below and comments for each cluster about each of the remaining questions.  It must contain a clear indication of which clusters comprise your final sample.  It should also have any important notes about each cluster that led you to choose it.</b></i>"
   ]
  },
  {
   "cell_type": "markdown",
   "metadata": {},
   "source": [
    "<b>b)   How big in angular size is the cluster?</b> \n",
    "<p>\n",
    "If the cluster is too large, you may not be able to observe most of it within the FOV of the camera, meaning that you won’t be able to get your observations completed without doing multiple, overlapping fields.  You can determine this a variety of ways.  If there is an image of the cluster on the main page, with a size scale, you can compare this to the FOV of the instrument that you computed in Part 1.  You can also use the <u>“From cluster chart (plotted)”</u> link under Query.\n",
    "</p>"
   ]
  },
  {
   "cell_type": "markdown",
   "metadata": {},
   "source": [
    "<b>c)   How sparsely (densely) populated is the cluster field?</b>\n",
    "<p>If the cluster is composed of a handful of stars against a rich background field, the dominant majority of what you observe may not be in the cluster and identifying the cluster members may be an exercise in self-delusion. If the cluster is exceptionally rich/crowded, you may have a challenging time getting good photometry because the stellar images overlap. This is a common problem with globular clusters, which contain hundreds of thousands of stars, but it can also affect open clusters if they are too distant, thereby squeezing a large sample of stars into a small angular diameter.   Again, you can get this through either the image or the finder chart.</p>"
   ]
  },
  {
   "cell_type": "markdown",
   "metadata": {},
   "source": [
    "************************************\n",
    "<p>At this point, you want to have an observing list of ~6 potential clusters. For the next set of constraints, <i>you need to determine how much we already know about each cluster on your list from already available observations.</i></p>"
   ]
  },
  {
   "cell_type": "markdown",
   "metadata": {},
   "source": [
    "<b>d)   Does CCD photometry already exist that would give you some insight into the expected color-magnitude diagram (CMD) for the cluster, once your photometry is completed? </b>\n",
    "\n",
    "While we will be observing with *g* and *r* filters, which have significantly different response curves than *UBV* filters, it is still useful to see what kind of CMD the clusters have using existing observations."
   ]
  },
  {
   "cell_type": "markdown",
   "metadata": {},
   "source": [
    "<b>e)   If a CMD exists for the cluster, does it look like a scatter plot or is there a respectable locus of points that probably includes the cluster members? </b>\n"
   ]
  },
  {
   "cell_type": "markdown",
   "metadata": {},
   "source": [
    "<b>f)   How bright are the stars in the cluster with the brightest apparent magnitude? </b> \n",
    "<p>Brighter stars require shorter exposures but, if stars are too bright, they will quickly saturate the CCD chip in the region of the star and possibly affect fainter stars nearby. Note that this answer is sometimes coupled to the answer to tha angular size of the stars discussed in (2) since nearby clusters have stars with bright apparent magnitudes (= small distance modulus). </p>"
   ]
  },
  {
   "cell_type": "markdown",
   "metadata": {},
   "source": [
    "<b>g)   How faint are the faintest stars you wish to observe?</b>\n",
    "\n",
    "<p>This requires a bit more work because you want to look at the color-magnitude diagram of the cluster to get some sense of how faint you need to observe to get a decent chunk of the CMD.  Assume that in a given band you don’t want to have to expose for longer than 15 minutes in total and that you want to get photometry in the *g* and *r* bands.  You also want a signal-to-noise (SNR) of at least 15 for your faintest stars.  To calculate the faintest star that you can observe in 15 minutes at an SNR=15 you need to do a computation. \n",
    "    \n",
    "Because the camera is new, we don't know how many counts we get for a star of a certain brightness in the *g* and *r* filters.  Instead, we know from previous experience what these numbers are for the *B* and *V* filters, though these filters are not mounted on the telescope at the current time.  We will therefore do the compuation for the *B* and *V* filters and assume that the answers are similar as for the *g* and *r* filters.  In practice, this is not a perfect assumption, but it serves our purpose here and the *B* and *V* magnitudes we compute will be within 0.3 to 0.5 mag of the *g* and *r* mag.\n",
    "\n",
    "For our detector and telescope a star of 20th magnitude in B and V gets 889 and 953 photons respectively in a 100s exposure.  The star’s light is spread over 10 pixels.  Let us conservatively (because the brightness is high then) assume that we are observing 1 day from full moon.  In that case the background per pixel is 194.2 and 144.8 in the B and V band respectively in a 100 sec. exposure.  Every pixel in our detector has a random signal (or noise) that is introduced whenever the signal is read out from the detector.  This \"readnoise\" is 3.7 counts per pixel.  Describe in a text cell below your computational cell whether or not you can neglect the read noise when determining the signal to noise, and why?\n",
    "    \n",
    "From the numbers above you can calculate the the faintest magnitude that yields you a SNR=20 in 15 minutes.\n",
    "\n",
    "<b>7. (10 points) Your code should print out the following, with explanatory text.  There should be separate values given for B and V.  Each part is worth 2 points:\n",
    "    <li>a) total number of background counts in B and V in 15min for the 10 pixels in an object aperture;\n",
    "    <li>b) the noise from the background in 15min for the summed pixels in an object aperture;\n",
    "    <li>c) the number of counts in 15min for B and V that correspond to the desired SNR=20;\n",
    "    <li>d) the number of counts in B and V for a 20th magnitude star in 15min;\n",
    "    <li>e) the magnitude in B and V corresponding to the limiting number of counts in c).\n",
    "</b>\n",
    "\n",
    "For this calculation, assume the gain is 1.  This means that if I get one photon, my CCD counts 1 electron.  Since Poisson noise is computed on the incident photons and not the number of measured electrons, you need to convert your counts to photons.  We will assume for now that this is a 1-to-1 conversion (Gain=1).  This is not correct but will be ok for this calculation."
   ]
  },
  {
   "cell_type": "code",
   "execution_count": 6,
   "metadata": {},
   "outputs": [
    {
     "name": "stdout",
     "output_type": "stream",
     "text": [
      "a) The number of BKG counts in B and V in 15min is: \n",
      "b) BKG noise in B and V: \n",
      "c) limiting counts for SNR limit in B and V: \n",
      "d) the number of counts in B and V for a 20th mag object in 15min: \n",
      "e) magnitude limits in B and V corresponding to our SNR limit: \n"
     ]
    }
   ],
   "source": [
    "#Answer 7) Here\n",
    "#YOUR CODE GOES HERE\n",
    "\n",
    "#Hint: You need to use the information about the number of counts \n",
    "#for different sources that I give above.\n",
    "\n",
    "#In each band, think about the noise from the background over the \n",
    "#whole size of the source when observed in 15min.  From this and the \n",
    "#SNR requirement you can determine the number of object counts that you need \n",
    "#to have the required SNR (see lecture notes).  Finally, the flux from a \n",
    "#20th mag object can then be used to convert that number of counts to a \n",
    "#limiting magnitude.\n",
    "\n",
    "#first measure the total background expected in 15 minutes\n",
    "print(f\"a) The number of BKG counts in B and V in 15min is: \")\n",
    "\n",
    "print(f\"b) BKG noise in B and V: \")\n",
    "\n",
    "#now determine the number of object counts needed in 15 minutes to get the desired SNR.  \n",
    "print(f\"c) limiting counts for SNR limit in B and V: \")\n",
    "\n",
    "print(f\"d) the number of counts in B and V for a 20th mag object in 15min: \")\n",
    "\n",
    "print(f\"e) magnitude limits in B and V corresponding to our SNR limit: \" )\n"
   ]
  },
  {
   "cell_type": "markdown",
   "metadata": {},
   "source": [
    "Now decide whether your clusters have enough stars above this limit to be able to construct an adequate CMD.\n",
    "\n",
    "<i>Note that you you don’t need to go as faint as possible.  You need to make a decision based on the characteristics of the cluster CMD.  For example, at the calculated magnitude limit are you just picking up the cluster giant branch or are you getting some fraction of the turnoff and main sequence?   You want a cluster such that your magnitude limit allows you to go deep enough to learn something about the cluster.</i></p>"
   ]
  },
  {
   "cell_type": "markdown",
   "metadata": {},
   "source": [
    "--------------------------\n",
    "<i> By this point you should have enough information to pick 2-3 clusters that you might want to observe given all of the conditions above.  Below you will make some plots for each of these clusters.  </i>\n",
    "\n"
   ]
  },
  {
   "cell_type": "markdown",
   "metadata": {},
   "source": [
    "<b> 8) (5 points) Your completed version of the Jupyter Notebook template will need to have for each cluster:\n",
    "    <li>a) A color-magnitude diagram of the B-V vs V-band for all the stars in the cluster field.  \n",
    "    <li>b) A histogram of the V-band magnitudes of the cluster members\n",
    "    <li>c) A plot of the RA and DEC of the cluster with an outline of the field of view of the detector centered on the cluster.  This is called a `finder chart`\n",
    "    <li>d) A block of summary text that describes your choice of clusters and For each cluster you will need to comment on the characteristics of the two graphs in a) and b).\n",
    "\n",
    "</b>\n",
    "\n",
    "\n",
    "To do a) and b) I provide you with a way to make CMDs and a histogram of the V-band magnitudes.\n",
    "<ol>  \n",
    "    <li>You will need to click the \"Available Data\" link on the Webda interface, and then click the \"UBV CCD\" link. This should bring you to a table of values with 5 columns: No, Ref, V, B-V, and U-B. </li>\n",
    "    <li>Copy and paste this entire table (inlcuding the columns names) into a text editor of your choice, and save it as a text file. </li>\n",
    "    <li>You should then use the make_plots() function (defined below), by passing as input the string of your file name (ex: \"cluster.txt\").  Please note that you need to use the cell block below the block of code directly below this text cell where the function is defined (if you try to call make_plots() before the cell it is written in you will get an error). You also need to make sure that the file with the data (there will be different ones for each cluster) is in the same directory as where the notebook is.  This isn't a generic requirement of such codes, but what we are doing here.</li>\n",
    "</ol>\n",
    "\n",
    "To do part c I include at the very bottom a block of code that will make a finder chart for a given RA and DEC."
   ]
  },
  {
   "cell_type": "code",
   "execution_count": null,
   "metadata": {},
   "outputs": [],
   "source": [
    "#***RUN THIS BLOCK. If you wish to change the font sizes in the plots, you can do so here.  ***\n",
    "\n",
    "#Now we just define some settings for our plots. \n",
    "params = {\n",
    "    #'text.latex.preamble': ['\\\\usepackage{gensymb}'],\n",
    "    'image.origin': 'lower',\n",
    "    'image.interpolation': 'nearest',\n",
    "    'image.cmap': 'gray', #gray\n",
    "    'axes.grid': False,\n",
    "    'savefig.dpi': 300,  \n",
    "    'axes.labelsize': 14, # fontsize for x and y labels\n",
    "    'axes.titlesize': 20, \n",
    "    'font.size': 14, \n",
    "    'legend.fontsize': 10, \n",
    "    'xtick.labelsize': 12,\n",
    "    'ytick.labelsize': 12, \n",
    "    'text.usetex': False,\n",
    "    'figure.figsize': [6, 6], #[width, height]\n",
    "    'figure.autolayout': False,\n",
    "    'font.family': 'monospace',\n",
    "}\n",
    "matplotlib.rcParams.update(params) #activate the settings\n",
    "\n",
    "def make_plots(file_name):\n",
    "    print(\"********************************************\")\n",
    "    print(\"Plots for file: \"+file_name)\n",
    "    print(\"********************************************\")\n",
    "    #We load in the first 4 columns of the file\n",
    "    data = np.loadtxt(file_name,skiprows = 0,usecols = (0,1,2,3), dtype={'names': ('No', 'Ref', 'V', 'B-V'), 'formats': ('S8', 'S16', 'S16','S16')})\n",
    "    \n",
    "    #We need to handle duplicates in the file, so we find indeces of unique sources\n",
    "    indeces_use = []\n",
    "    len_data = len(data)\n",
    "    for i in range(1,len_data-1): #Skip first row since it contains columns names.\n",
    "        if data[i][0] != data[i+1][0]: #Check if the next source is a repeat\n",
    "            indeces_use.append(i) #If it is not a repeat, it is unique and we record its index.\n",
    "            \n",
    "    num_sources = len(indeces_use) #Number of actual unique sources\n",
    "    \n",
    "    #We will now average over the magnitudes for repeated sources\n",
    "    V_avg = np.zeros(num_sources)\n",
    "    BV_avg = np.zeros(num_sources)\n",
    "    for i in range(num_sources):\n",
    "        current_index = indeces_use[i] #Keep track of the first index that this source appears at\n",
    "        num_i = 1 #Keep track of the number of sources with this source name\n",
    "        V_tot = float(data[current_index][2])\n",
    "        BV_tot = float(data[current_index][3])\n",
    "        #While the next source has the same source name\n",
    "        while current_index < (num_sources - 2) and data[current_index][0] == data[current_index+1][0]:\n",
    "            current_index += 1 #We go to the next repeat of this source.\n",
    "            num_i += 1 \n",
    "            V_tot += float(data[current_index][2]) #Add the next value forn this repeated source to the total mag\n",
    "            BV_tot += float(data[current_index][3])\n",
    "        V_avg[i] = V_tot/num_i\n",
    "        BV_avg[i] = BV_tot/num_i\n",
    "\n",
    "    #Make the figure for the CMD\n",
    "    fig1, ax1 = plt.subplots()\n",
    "    ax1.set_xlabel(r'$B-V\\ [mag]$')\n",
    "    ax1.set_ylabel(r'$V\\ [mag]$')\n",
    "    ax1.grid(which= 'major', linestyle='-', linewidth='0.5', color = 'black', alpha = 0.3)\n",
    "    ax1.grid(which='minor', linestyle=':', linewidth='0.3', color = 'black', alpha = 0.2)\n",
    "    ax1.scatter(BV_avg, V_avg, marker = '.', c='k')\n",
    "\n",
    "    #Create good min and max values for CMD axes, and set axis limits. \n",
    "    x_min_plot = np.min(BV_avg)-abs(.1*np.min(BV_avg))\n",
    "    x_max_plot = 1.1*np.max(BV_avg)\n",
    "    y_min_plot = np.min(V_avg)-abs(.1*np.min(V_avg))\n",
    "    y_max_plot = 1.1*np.max(V_avg)\n",
    "    ax1.set_xlim([float(x_min_plot), float(x_max_plot)])\n",
    "    ax1.set_ylim([float(y_max_plot), float(y_min_plot)])\n",
    "    ax1.set_title(r'Color Magnitude Diagram')\n",
    "\n",
    "    #Make figure for histogram. \n",
    "    fig2, ax2 = plt.subplots()\n",
    "    ax2.hist(V_avg, bins = 'auto',histtype ='step', color = 'k', lw = 1.5)\n",
    "    ymin_hist, ymax_hist = ax2.get_ylim()\n",
    "    xmin_hist, xmax_hist = ax2.get_xlim()\n",
    "    #Write on the number of total sources for reference\n",
    "    ax2.annotate( 'N = '+str(num_sources), xy = ( xmin_hist + 0.05*(xmax_hist-xmin_hist), ymax_hist - 0.1*ymax_hist))\n",
    "    ax2.set_title(r'V mag Histogram')\n",
    "    ax2.set_xlabel(r'$V\\ [mag]$')\n",
    "    ax2.set_ylabel(r'Counts')"
   ]
  },
  {
   "cell_type": "code",
   "execution_count": null,
   "metadata": {},
   "outputs": [],
   "source": [
    "#*****************\n",
    "#In this block of code you will make a CMD plot and a V-band magnitude histogram.\n",
    "#You will need to repeat this for each cluster.\n",
    "\n",
    "#Example call of make_plots for the file \"cluster.txt\"\n",
    "#   \n",
    "#    make_plots(\"cluster.txt\")\n",
    "#\n",
    "#Replace \"cluster.txt\" with the name of your files. You will need to do this for all clusters you use, using a \n",
    "#separate text file and call of make_plots for each cluster. \n",
    "#YOUR CODE HERE\n",
    "\n",
    "make_plots(\"cluster.txt\")"
   ]
  },
  {
   "cell_type": "code",
   "execution_count": null,
   "metadata": {},
   "outputs": [],
   "source": [
    "#***RUN THIS BLOCK***\n",
    "#This is a routine to pull images from the web at the location of your source and \n",
    "#to overlay the Breyo telescope KL4040 camera's field of view\n",
    "\n",
    "def make_finder(RA_HMS, DEC_DMS, fov, img_width=40/60, img_height=40/60):\n",
    "    #Use the RA and DEC to make a SkyCoord object, which we use to query and image\n",
    "    RA_DEG = get_RA_deg(RA_HMS) #convert to Degrees\n",
    "    DEC_DEG = get_DEC_deg(DEC_DMS)\n",
    "    source_coord = SkyCoord(ra= RA_DEG*u.deg,dec = DEC_DEG*u.deg)\n",
    "\n",
    "    #Query an image using astroquery with the given coordinates and image width/height\n",
    "    xout = SkyView.get_images(source_coord,survey=['DSS'],height=img_height*u.deg,width=img_width*u.deg)\n",
    "    \n",
    "    #Make the figure object and handle the fits image appropriately.\n",
    "    fig, ax = plt.subplots(figsize=(8,8))\n",
    "    b=xout[0][0]\n",
    "    ax.imshow(xout[0][0].data,aspect='equal',cmap='gray_r',extent=[b.header['CRVAL1']-(b.header['NAXIS1']-b.header['CRPIX1'])*b.header['CDELT1'],\n",
    "                                                               b.header['CRVAL1']+(b.header['NAXIS1']-b.header['CRPIX1'])*b.header['CDELT1'],\n",
    "                                                               b.header['CRVAL2']+(b.header['NAXIS2']-b.header['CRPIX2'])*b.header['CDELT2'],\n",
    "                                                               b.header['CRVAL2']-(b.header['NAXIS2']-b.header['CRPIX2'])*b.header['CDELT2']])\n",
    "    #Overlay a rectangle indicating the fov\n",
    "    rect = plt.Rectangle((RA_DEG-0.5*(fov),DEC_DEG-0.5*(fov)) ,fov,fov,linewidth=1,fill=False, color='k')\n",
    "    plt.gca().add_artist(rect)\n",
    "    ax.set_xlabel(r'RA [DEG]')\n",
    "    ax.set_ylabel(r'DEC [DEG]')"
   ]
  },
  {
   "cell_type": "code",
   "execution_count": null,
   "metadata": {},
   "outputs": [],
   "source": [
    "#************\n",
    "#This block of code allows you to make a finder chart for your cluster using the make_finder() function \n",
    "#defined above.\n",
    "#You will need to do this for each of your three clusters.  \n",
    "#We provide example code below.\n",
    "\n",
    "####First, define the RA and DEC of the cluster as follows, in HMS for RA and DMS for DEC\n",
    "#source_RA = '07 38 46'\n",
    "#source_DEC = '-33 50 36'\n",
    "#\n",
    "####Now, define the fov in arcmin. This should be the fov of your instrument from part 1\n",
    "#fov = 12.7\n",
    "#fov_degrees = fov/60\n",
    "#\n",
    "#make_finder(source_RA, source_DEC, fov_degrees)\n",
    "#***********YOUR CODE HERE\n",
    "\n",
    "source_RA = ''\n",
    "source_DEC = ''\n",
    "fov =   #in arcmin\n",
    "fov_degrees = fov/60\n",
    "make_finder()"
   ]
  }
 ],
 "metadata": {
  "kernelspec": {
   "display_name": "Python 3 (ipykernel)",
   "language": "python",
   "name": "python3"
  },
  "language_info": {
   "codemirror_mode": {
    "name": "ipython",
    "version": 3
   },
   "file_extension": ".py",
   "mimetype": "text/x-python",
   "name": "python",
   "nbconvert_exporter": "python",
   "pygments_lexer": "ipython3",
   "version": "3.12.5"
  }
 },
 "nbformat": 4,
 "nbformat_minor": 4
}
